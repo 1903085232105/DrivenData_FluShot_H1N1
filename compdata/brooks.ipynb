{
 "cells": [
  {
   "cell_type": "code",
   "execution_count": 1,
   "metadata": {},
   "outputs": [],
   "source": [
    "import pandas as pd\n",
    "import numpy as np"
   ]
  },
  {
   "cell_type": "code",
   "execution_count": 2,
   "metadata": {},
   "outputs": [],
   "source": [
    "vacc_data = pd.read_csv(\"training_set_features.csv\")"
   ]
  },
  {
   "cell_type": "code",
   "execution_count": 4,
   "metadata": {},
   "outputs": [
    {
     "data": {
      "text/html": [
       "<div>\n",
       "<style scoped>\n",
       "    .dataframe tbody tr th:only-of-type {\n",
       "        vertical-align: middle;\n",
       "    }\n",
       "\n",
       "    .dataframe tbody tr th {\n",
       "        vertical-align: top;\n",
       "    }\n",
       "\n",
       "    .dataframe thead th {\n",
       "        text-align: right;\n",
       "    }\n",
       "</style>\n",
       "<table border=\"1\" class=\"dataframe\">\n",
       "  <thead>\n",
       "    <tr style=\"text-align: right;\">\n",
       "      <th></th>\n",
       "      <th>respondent_id</th>\n",
       "      <th>h1n1_concern</th>\n",
       "      <th>h1n1_knowledge</th>\n",
       "      <th>behavioral_antiviral_meds</th>\n",
       "      <th>behavioral_avoidance</th>\n",
       "      <th>behavioral_face_mask</th>\n",
       "      <th>behavioral_wash_hands</th>\n",
       "      <th>behavioral_large_gatherings</th>\n",
       "      <th>behavioral_outside_home</th>\n",
       "      <th>behavioral_touch_face</th>\n",
       "      <th>...</th>\n",
       "      <th>income_poverty</th>\n",
       "      <th>marital_status</th>\n",
       "      <th>rent_or_own</th>\n",
       "      <th>employment_status</th>\n",
       "      <th>hhs_geo_region</th>\n",
       "      <th>census_msa</th>\n",
       "      <th>household_adults</th>\n",
       "      <th>household_children</th>\n",
       "      <th>employment_industry</th>\n",
       "      <th>employment_occupation</th>\n",
       "    </tr>\n",
       "  </thead>\n",
       "  <tbody>\n",
       "    <tr>\n",
       "      <td>0</td>\n",
       "      <td>0</td>\n",
       "      <td>1.0</td>\n",
       "      <td>0.0</td>\n",
       "      <td>0.0</td>\n",
       "      <td>0.0</td>\n",
       "      <td>0.0</td>\n",
       "      <td>0.0</td>\n",
       "      <td>0.0</td>\n",
       "      <td>1.0</td>\n",
       "      <td>1.0</td>\n",
       "      <td>...</td>\n",
       "      <td>Below Poverty</td>\n",
       "      <td>Not Married</td>\n",
       "      <td>Own</td>\n",
       "      <td>Not in Labor Force</td>\n",
       "      <td>oxchjgsf</td>\n",
       "      <td>Non-MSA</td>\n",
       "      <td>0.0</td>\n",
       "      <td>0.0</td>\n",
       "      <td>NaN</td>\n",
       "      <td>NaN</td>\n",
       "    </tr>\n",
       "    <tr>\n",
       "      <td>1</td>\n",
       "      <td>1</td>\n",
       "      <td>3.0</td>\n",
       "      <td>2.0</td>\n",
       "      <td>0.0</td>\n",
       "      <td>1.0</td>\n",
       "      <td>0.0</td>\n",
       "      <td>1.0</td>\n",
       "      <td>0.0</td>\n",
       "      <td>1.0</td>\n",
       "      <td>1.0</td>\n",
       "      <td>...</td>\n",
       "      <td>Below Poverty</td>\n",
       "      <td>Not Married</td>\n",
       "      <td>Rent</td>\n",
       "      <td>Employed</td>\n",
       "      <td>bhuqouqj</td>\n",
       "      <td>MSA, Not Principle  City</td>\n",
       "      <td>0.0</td>\n",
       "      <td>0.0</td>\n",
       "      <td>pxcmvdjn</td>\n",
       "      <td>xgwztkwe</td>\n",
       "    </tr>\n",
       "    <tr>\n",
       "      <td>2</td>\n",
       "      <td>2</td>\n",
       "      <td>1.0</td>\n",
       "      <td>1.0</td>\n",
       "      <td>0.0</td>\n",
       "      <td>1.0</td>\n",
       "      <td>0.0</td>\n",
       "      <td>0.0</td>\n",
       "      <td>0.0</td>\n",
       "      <td>0.0</td>\n",
       "      <td>0.0</td>\n",
       "      <td>...</td>\n",
       "      <td>&lt;= $75,000, Above Poverty</td>\n",
       "      <td>Not Married</td>\n",
       "      <td>Own</td>\n",
       "      <td>Employed</td>\n",
       "      <td>qufhixun</td>\n",
       "      <td>MSA, Not Principle  City</td>\n",
       "      <td>2.0</td>\n",
       "      <td>0.0</td>\n",
       "      <td>rucpziij</td>\n",
       "      <td>xtkaffoo</td>\n",
       "    </tr>\n",
       "    <tr>\n",
       "      <td>3</td>\n",
       "      <td>3</td>\n",
       "      <td>1.0</td>\n",
       "      <td>1.0</td>\n",
       "      <td>0.0</td>\n",
       "      <td>1.0</td>\n",
       "      <td>0.0</td>\n",
       "      <td>1.0</td>\n",
       "      <td>1.0</td>\n",
       "      <td>0.0</td>\n",
       "      <td>0.0</td>\n",
       "      <td>...</td>\n",
       "      <td>Below Poverty</td>\n",
       "      <td>Not Married</td>\n",
       "      <td>Rent</td>\n",
       "      <td>Not in Labor Force</td>\n",
       "      <td>lrircsnp</td>\n",
       "      <td>MSA, Principle City</td>\n",
       "      <td>0.0</td>\n",
       "      <td>0.0</td>\n",
       "      <td>NaN</td>\n",
       "      <td>NaN</td>\n",
       "    </tr>\n",
       "    <tr>\n",
       "      <td>4</td>\n",
       "      <td>4</td>\n",
       "      <td>2.0</td>\n",
       "      <td>1.0</td>\n",
       "      <td>0.0</td>\n",
       "      <td>1.0</td>\n",
       "      <td>0.0</td>\n",
       "      <td>1.0</td>\n",
       "      <td>1.0</td>\n",
       "      <td>0.0</td>\n",
       "      <td>1.0</td>\n",
       "      <td>...</td>\n",
       "      <td>&lt;= $75,000, Above Poverty</td>\n",
       "      <td>Married</td>\n",
       "      <td>Own</td>\n",
       "      <td>Employed</td>\n",
       "      <td>qufhixun</td>\n",
       "      <td>MSA, Not Principle  City</td>\n",
       "      <td>1.0</td>\n",
       "      <td>0.0</td>\n",
       "      <td>wxleyezf</td>\n",
       "      <td>emcorrxb</td>\n",
       "    </tr>\n",
       "  </tbody>\n",
       "</table>\n",
       "<p>5 rows × 36 columns</p>\n",
       "</div>"
      ],
      "text/plain": [
       "   respondent_id  h1n1_concern  h1n1_knowledge  behavioral_antiviral_meds  \\\n",
       "0              0           1.0             0.0                        0.0   \n",
       "1              1           3.0             2.0                        0.0   \n",
       "2              2           1.0             1.0                        0.0   \n",
       "3              3           1.0             1.0                        0.0   \n",
       "4              4           2.0             1.0                        0.0   \n",
       "\n",
       "   behavioral_avoidance  behavioral_face_mask  behavioral_wash_hands  \\\n",
       "0                   0.0                   0.0                    0.0   \n",
       "1                   1.0                   0.0                    1.0   \n",
       "2                   1.0                   0.0                    0.0   \n",
       "3                   1.0                   0.0                    1.0   \n",
       "4                   1.0                   0.0                    1.0   \n",
       "\n",
       "   behavioral_large_gatherings  behavioral_outside_home  \\\n",
       "0                          0.0                      1.0   \n",
       "1                          0.0                      1.0   \n",
       "2                          0.0                      0.0   \n",
       "3                          1.0                      0.0   \n",
       "4                          1.0                      0.0   \n",
       "\n",
       "   behavioral_touch_face  ...             income_poverty  marital_status  \\\n",
       "0                    1.0  ...              Below Poverty     Not Married   \n",
       "1                    1.0  ...              Below Poverty     Not Married   \n",
       "2                    0.0  ...  <= $75,000, Above Poverty     Not Married   \n",
       "3                    0.0  ...              Below Poverty     Not Married   \n",
       "4                    1.0  ...  <= $75,000, Above Poverty         Married   \n",
       "\n",
       "   rent_or_own   employment_status  hhs_geo_region                census_msa  \\\n",
       "0          Own  Not in Labor Force        oxchjgsf                   Non-MSA   \n",
       "1         Rent            Employed        bhuqouqj  MSA, Not Principle  City   \n",
       "2          Own            Employed        qufhixun  MSA, Not Principle  City   \n",
       "3         Rent  Not in Labor Force        lrircsnp       MSA, Principle City   \n",
       "4          Own            Employed        qufhixun  MSA, Not Principle  City   \n",
       "\n",
       "   household_adults  household_children  employment_industry  \\\n",
       "0               0.0                 0.0                  NaN   \n",
       "1               0.0                 0.0             pxcmvdjn   \n",
       "2               2.0                 0.0             rucpziij   \n",
       "3               0.0                 0.0                  NaN   \n",
       "4               1.0                 0.0             wxleyezf   \n",
       "\n",
       "   employment_occupation  \n",
       "0                    NaN  \n",
       "1               xgwztkwe  \n",
       "2               xtkaffoo  \n",
       "3                    NaN  \n",
       "4               emcorrxb  \n",
       "\n",
       "[5 rows x 36 columns]"
      ]
     },
     "execution_count": 4,
     "metadata": {},
     "output_type": "execute_result"
    }
   ],
   "source": [
    "vacc_data.head()"
   ]
  },
  {
   "cell_type": "code",
   "execution_count": 13,
   "metadata": {},
   "outputs": [
    {
     "data": {
      "text/plain": [
       "respondent_id                      0\n",
       "h1n1_concern                      90\n",
       "h1n1_knowledge                   116\n",
       "behavioral_antiviral_meds         69\n",
       "behavioral_avoidance             204\n",
       "behavioral_face_mask              19\n",
       "behavioral_wash_hands             41\n",
       "behavioral_large_gatherings       85\n",
       "behavioral_outside_home           82\n",
       "behavioral_touch_face            127\n",
       "doctor_recc_h1n1                2097\n",
       "doctor_recc_seasonal            2097\n",
       "chronic_med_condition            777\n",
       "child_under_6_months             595\n",
       "health_worker                    588\n",
       "opinion_h1n1_vacc_effective      311\n",
       "opinion_h1n1_risk                292\n",
       "opinion_h1n1_sick_from_vacc      291\n",
       "opinion_seas_vacc_effective      350\n",
       "opinion_seas_risk                386\n",
       "opinion_seas_sick_from_vacc      394\n",
       "age_group                          0\n",
       "education                       1170\n",
       "race                               0\n",
       "sex                                0\n",
       "income_poverty                  4181\n",
       "marital_status                  1172\n",
       "rent_or_own                     1804\n",
       "employment_status               1225\n",
       "hhs_geo_region                     0\n",
       "census_msa                         0\n",
       "household_adults                   0\n",
       "household_children                 0\n",
       "employment_industry            13088\n",
       "employment_occupation          13228\n",
       "dtype: int64"
      ]
     },
     "execution_count": 13,
     "metadata": {},
     "output_type": "execute_result"
    }
   ],
   "source": [
    "vacc_data.isnull().sum()"
   ]
  },
  {
   "cell_type": "code",
   "execution_count": 14,
   "metadata": {
    "scrolled": true
   },
   "outputs": [
    {
     "data": {
      "text/plain": [
       "respondent_id                  26458\n",
       "h1n1_concern                   26368\n",
       "h1n1_knowledge                 26342\n",
       "behavioral_antiviral_meds      26389\n",
       "behavioral_avoidance           26254\n",
       "behavioral_face_mask           26439\n",
       "behavioral_wash_hands          26417\n",
       "behavioral_large_gatherings    26373\n",
       "behavioral_outside_home        26376\n",
       "behavioral_touch_face          26331\n",
       "doctor_recc_h1n1               24361\n",
       "doctor_recc_seasonal           24361\n",
       "chronic_med_condition          25681\n",
       "child_under_6_months           25863\n",
       "health_worker                  25870\n",
       "opinion_h1n1_vacc_effective    26147\n",
       "opinion_h1n1_risk              26166\n",
       "opinion_h1n1_sick_from_vacc    26167\n",
       "opinion_seas_vacc_effective    26108\n",
       "opinion_seas_risk              26072\n",
       "opinion_seas_sick_from_vacc    26064\n",
       "age_group                      26458\n",
       "education                      25288\n",
       "race                           26458\n",
       "sex                            26458\n",
       "income_poverty                 22277\n",
       "marital_status                 25286\n",
       "rent_or_own                    24654\n",
       "employment_status              25233\n",
       "hhs_geo_region                 26458\n",
       "census_msa                     26458\n",
       "household_adults               26458\n",
       "household_children             26458\n",
       "employment_industry            13370\n",
       "employment_occupation          13230\n",
       "dtype: int64"
      ]
     },
     "execution_count": 14,
     "metadata": {},
     "output_type": "execute_result"
    }
   ],
   "source": [
    "vacc_data.count()"
   ]
  },
  {
   "cell_type": "code",
   "execution_count": 8,
   "metadata": {},
   "outputs": [],
   "source": [
    "vacc_data.drop(inplace = True, columns = [\"health_insurance\"])"
   ]
  },
  {
   "cell_type": "code",
   "execution_count": 11,
   "metadata": {},
   "outputs": [
    {
     "data": {
      "text/plain": [
       "array([nan, 'xgwztkwe', 'xtkaffoo', 'emcorrxb', 'vlluhbov', 'xqwwgdyp',\n",
       "       'ccgxvspp', 'qxajmpny', 'kldqjyjy', 'mxkfnird', 'hfxkjkmi',\n",
       "       'bxpfxfdn', 'ukymxvdu', 'cmhcxjea', 'haliazsg', 'dlvbwzss',\n",
       "       'xzmlyyjv', 'oijqvulv', 'rcertsgn', 'tfqavkke', 'hodpvpew',\n",
       "       'uqqtjvyb', 'pvmttkik', 'dcjcmpih'], dtype=object)"
      ]
     },
     "execution_count": 11,
     "metadata": {},
     "output_type": "execute_result"
    }
   ],
   "source": [
    "vacc_data[\"employment_occupation\"].unique()"
   ]
  },
  {
   "cell_type": "code",
   "execution_count": 12,
   "metadata": {},
   "outputs": [],
   "source": [
    "vacc_data.dropna(inplace=True, subset=[\"household_adults\", \"household_children\"])"
   ]
  },
  {
   "cell_type": "code",
   "execution_count": 44,
   "metadata": {},
   "outputs": [],
   "source": [
    "vacc_data[\"income_poverty\"] = vacc_data.apply(lambda x: fillpoverty(x) if pd.isnull(x['income_poverty']) else x['income_poverty'], axis = 1)"
   ]
  },
  {
   "cell_type": "code",
   "execution_count": 26,
   "metadata": {},
   "outputs": [],
   "source": [
    "def fillpoverty(row):\n",
    "    if row['age_group'] == \"65+ Years\" and row['employment_status'] == \"Not in Labor Force\":\n",
    "        return \"Retired\"\n",
    "    elif row['employment_status'] == \"Unemployed\" or row['employment_status']  == \"Not in Labor Force\":\n",
    "        return \"Unemployed\"\n",
    "    else:\n",
    "        return \"N/A\"\n",
    "        "
   ]
  },
  {
   "cell_type": "code",
   "execution_count": 48,
   "metadata": {},
   "outputs": [
    {
     "data": {
      "text/plain": [
       "'Unemployed'"
      ]
     },
     "execution_count": 48,
     "metadata": {},
     "output_type": "execute_result"
    }
   ],
   "source": [
    "vacc_data['income_poverty'][24]"
   ]
  },
  {
   "cell_type": "code",
   "execution_count": 45,
   "metadata": {
    "scrolled": true
   },
   "outputs": [
    {
     "data": {
      "text/plain": [
       "respondent_id                      0\n",
       "h1n1_concern                      90\n",
       "h1n1_knowledge                   116\n",
       "behavioral_antiviral_meds         69\n",
       "behavioral_avoidance             204\n",
       "behavioral_face_mask              19\n",
       "behavioral_wash_hands             41\n",
       "behavioral_large_gatherings       85\n",
       "behavioral_outside_home           82\n",
       "behavioral_touch_face            127\n",
       "doctor_recc_h1n1                2097\n",
       "doctor_recc_seasonal            2097\n",
       "chronic_med_condition            777\n",
       "child_under_6_months             595\n",
       "health_worker                    588\n",
       "opinion_h1n1_vacc_effective      311\n",
       "opinion_h1n1_risk                292\n",
       "opinion_h1n1_sick_from_vacc      291\n",
       "opinion_seas_vacc_effective      350\n",
       "opinion_seas_risk                386\n",
       "opinion_seas_sick_from_vacc      394\n",
       "age_group                          0\n",
       "education                       1170\n",
       "race                               0\n",
       "sex                                0\n",
       "income_poverty                     0\n",
       "marital_status                  1172\n",
       "rent_or_own                     1804\n",
       "employment_status               1225\n",
       "hhs_geo_region                     0\n",
       "census_msa                         0\n",
       "household_adults                   0\n",
       "household_children                 0\n",
       "employment_industry            13088\n",
       "employment_occupation          13228\n",
       "dtype: int64"
      ]
     },
     "execution_count": 45,
     "metadata": {},
     "output_type": "execute_result"
    }
   ],
   "source": [
    "vacc_data.isnull().sum()"
   ]
  },
  {
   "cell_type": "code",
   "execution_count": 51,
   "metadata": {},
   "outputs": [],
   "source": [
    "vacc_data = vacc_data[vacc_data['employment_status'].notna()]"
   ]
  },
  {
   "cell_type": "code",
   "execution_count": 52,
   "metadata": {
    "scrolled": true
   },
   "outputs": [
    {
     "data": {
      "text/plain": [
       "respondent_id                      0\n",
       "h1n1_concern                      75\n",
       "h1n1_knowledge                   107\n",
       "behavioral_antiviral_meds         64\n",
       "behavioral_avoidance             189\n",
       "behavioral_face_mask              17\n",
       "behavioral_wash_hands             34\n",
       "behavioral_large_gatherings       78\n",
       "behavioral_outside_home           75\n",
       "behavioral_touch_face            114\n",
       "doctor_recc_h1n1                1912\n",
       "doctor_recc_seasonal            1912\n",
       "chronic_med_condition            220\n",
       "child_under_6_months               3\n",
       "health_worker                     14\n",
       "opinion_h1n1_vacc_effective       86\n",
       "opinion_h1n1_risk                 42\n",
       "opinion_h1n1_sick_from_vacc       13\n",
       "opinion_seas_vacc_effective       42\n",
       "opinion_seas_risk                 33\n",
       "opinion_seas_sick_from_vacc       11\n",
       "age_group                          0\n",
       "education                        156\n",
       "race                               0\n",
       "sex                                0\n",
       "income_poverty                     0\n",
       "marital_status                   141\n",
       "rent_or_own                      684\n",
       "employment_status                  0\n",
       "hhs_geo_region                     0\n",
       "census_msa                         0\n",
       "household_adults                   0\n",
       "household_children                 0\n",
       "employment_industry            11863\n",
       "employment_occupation          12003\n",
       "dtype: int64"
      ]
     },
     "execution_count": 52,
     "metadata": {},
     "output_type": "execute_result"
    }
   ],
   "source": [
    "vacc_data.isnull().sum()"
   ]
  },
  {
   "cell_type": "code",
   "execution_count": 53,
   "metadata": {
    "scrolled": true
   },
   "outputs": [
    {
     "name": "stderr",
     "output_type": "stream",
     "text": [
      "/Users/brooks/anaconda3/lib/python3.7/site-packages/ipykernel_launcher.py:1: SettingWithCopyWarning: \n",
      "A value is trying to be set on a copy of a slice from a DataFrame.\n",
      "Try using .loc[row_indexer,col_indexer] = value instead\n",
      "\n",
      "See the caveats in the documentation: http://pandas.pydata.org/pandas-docs/stable/user_guide/indexing.html#returning-a-view-versus-a-copy\n",
      "  \"\"\"Entry point for launching an IPython kernel.\n"
     ]
    }
   ],
   "source": [
    "vacc_data[\"rent_or_own\"] = vacc_data.apply(lambda x: \"Unknown\" if pd.isnull(x['rent_or_own']) else x['rent_or_own'], axis = 1)"
   ]
  },
  {
   "cell_type": "code",
   "execution_count": 54,
   "metadata": {},
   "outputs": [
    {
     "data": {
      "text/plain": [
       "respondent_id                      0\n",
       "h1n1_concern                      75\n",
       "h1n1_knowledge                   107\n",
       "behavioral_antiviral_meds         64\n",
       "behavioral_avoidance             189\n",
       "behavioral_face_mask              17\n",
       "behavioral_wash_hands             34\n",
       "behavioral_large_gatherings       78\n",
       "behavioral_outside_home           75\n",
       "behavioral_touch_face            114\n",
       "doctor_recc_h1n1                1912\n",
       "doctor_recc_seasonal            1912\n",
       "chronic_med_condition            220\n",
       "child_under_6_months               3\n",
       "health_worker                     14\n",
       "opinion_h1n1_vacc_effective       86\n",
       "opinion_h1n1_risk                 42\n",
       "opinion_h1n1_sick_from_vacc       13\n",
       "opinion_seas_vacc_effective       42\n",
       "opinion_seas_risk                 33\n",
       "opinion_seas_sick_from_vacc       11\n",
       "age_group                          0\n",
       "education                        156\n",
       "race                               0\n",
       "sex                                0\n",
       "income_poverty                     0\n",
       "marital_status                   141\n",
       "rent_or_own                        0\n",
       "employment_status                  0\n",
       "hhs_geo_region                     0\n",
       "census_msa                         0\n",
       "household_adults                   0\n",
       "household_children                 0\n",
       "employment_industry            11863\n",
       "employment_occupation          12003\n",
       "dtype: int64"
      ]
     },
     "execution_count": 54,
     "metadata": {},
     "output_type": "execute_result"
    }
   ],
   "source": [
    "vacc_data.isnull().sum()"
   ]
  },
  {
   "cell_type": "code",
   "execution_count": null,
   "metadata": {},
   "outputs": [],
   "source": []
  },
  {
   "cell_type": "code",
   "execution_count": null,
   "metadata": {},
   "outputs": [],
   "source": []
  }
 ],
 "metadata": {
  "kernelspec": {
   "display_name": "Python 3",
   "language": "python",
   "name": "python3"
  },
  "language_info": {
   "codemirror_mode": {
    "name": "ipython",
    "version": 3
   },
   "file_extension": ".py",
   "mimetype": "text/x-python",
   "name": "python",
   "nbconvert_exporter": "python",
   "pygments_lexer": "ipython3",
   "version": "3.7.4"
  }
 },
 "nbformat": 4,
 "nbformat_minor": 2
}
